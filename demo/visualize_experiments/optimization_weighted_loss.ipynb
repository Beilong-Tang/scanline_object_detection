{
 "cells": [
  {
   "cell_type": "code",
   "execution_count": null,
   "metadata": {},
   "outputs": [],
   "source": [
    "import torch\n",
    "import matplotlib.pyplot as plt\n",
    "\n",
    "epoch_step = 148 # This is the step number for one epoch with augmentated data\n",
    "num_dict = {1: 206, 2: 26, 3:14}"
   ]
  },
  {
   "cell_type": "code",
   "execution_count": null,
   "metadata": {},
   "outputs": [],
   "source": [
    "# Draw the Results:\n",
    "## mobilenet from scratch with augmentation:\n",
    "hist = torch.load(\"/DKUdata/tangbl/courses/CS302_CV/final_project/src/scanline_traffic_object_detection/ckpt/resnet50_pretrain_weighted_loss/config/hist.pth\")\n",
    "x = list(range(0,len(hist['train_step'])))\n",
    "step = 1\n",
    "plt.plot(x[::step], [float(i['loss']) for i in hist['train_step']][::step], linestyle='-', label='loss')\n",
    "plt.plot(x[::step], [float(i['accuracy']) for i in hist['train_step']][::step], linestyle='-', label='acc')\n",
    "\n",
    "acc_w_recalculate = [i['acc_each'] for i in hist['eval_epoch']]\n",
    "res = []\n",
    "total_num = sum([ 1 / i for i in num_dict.values()])\n",
    "weights = {k : 1 / i for k, i in num_dict.items()}\n",
    "for i in acc_w_recalculate:\n",
    "    avg = 0\n",
    "    for k, v in num_dict.items():\n",
    "        avg += weights[k] * i[k]\n",
    "    avg = avg / total_num\n",
    "    res.append(avg)\n",
    "\n",
    "plt.plot(x[::epoch_step], [float(i['acc']) for i in hist['eval_epoch']], linestyle='-', marker='o', label='eval_acc')\n",
    "plt.plot(x[::epoch_step], res, linestyle='-', marker = 'o', label='eval_acc_weighted')\n",
    "# plt.legend()\n",
    "plt.title(\"resnet50 pretrain weighed loss\")\n",
    "plt.grid(True)\n",
    "plt.xlabel(\"Steps\")\n",
    "# plt.legend()\n",
    "# plt.ylabel(\"Y-axis\")\n",
    "# Show the plot\n",
    "plt.show()\n",
    "# print(sorted([-1])\n",
    "res_ = max(res)\n",
    "print(res.index(res_))\n",
    "print(res_)\n",
    "print(hist['eval_epoch'][res.index(res_)]['acc_each'])"
   ]
  }
 ],
 "metadata": {
  "kernelspec": {
   "display_name": "bltang_new",
   "language": "python",
   "name": "python3"
  },
  "language_info": {
   "codemirror_mode": {
    "name": "ipython",
    "version": 3
   },
   "file_extension": ".py",
   "mimetype": "text/x-python",
   "name": "python",
   "nbconvert_exporter": "python",
   "pygments_lexer": "ipython3",
   "version": "3.9.13"
  }
 },
 "nbformat": 4,
 "nbformat_minor": 2
}
