{
 "cells": [
  {
   "cell_type": "code",
   "execution_count": 1,
   "metadata": {},
   "outputs": [],
   "source": [
    "## This is used in the introduction to visualize the effect of the single line\n",
    "import glob\n",
    "import cv2\n",
    "import skimage\n",
    "import tqdm\n",
    "import numpy as np"
   ]
  },
  {
   "cell_type": "code",
   "execution_count": 2,
   "metadata": {},
   "outputs": [],
   "source": [
    "# Please change the data_dir to your own\n",
    "data_dir = r\"D:\\Main\\DKU\\Senior\\CS302_CV\\projects\\data\""
   ]
  },
  {
   "cell_type": "code",
   "execution_count": 3,
   "metadata": {},
   "outputs": [],
   "source": [
    "images = sorted(glob.glob(f\"{data_dir}/*.jpg\")) # sort them according to frames\n",
    "duration = 5 # 5 seconds\n",
    "fps = 25\n",
    "\n",
    "# the index of the line\n",
    "line_idx = 400\n",
    "thick = 2 # the thickness of the line (width)"
   ]
  },
  {
   "cell_type": "code",
   "execution_count": null,
   "metadata": {},
   "outputs": [
    {
     "name": "stderr",
     "output_type": "stream",
     "text": [
      "100%|██████████| 125/125 [00:02<00:00, 58.93it/s]\n"
     ]
    }
   ],
   "source": [
    "## Draw the original video \n",
    "video_writer = cv2.VideoWriter(\"visualize_line_origin.mp4\", cv2.VideoWriter_fourcc(*'mp4v'), fps, (960, 540))\n",
    "for f in tqdm.tqdm(images[:int(fps * duration)]):\n",
    "    img = skimage.io.imread(f)\n",
    "    img = cv2.cvtColor(img, cv2.COLOR_RGB2BGR)\n",
    "    video_writer.write(img)\n",
    "video_writer.release()"
   ]
  },
  {
   "cell_type": "code",
   "execution_count": null,
   "metadata": {},
   "outputs": [
    {
     "name": "stderr",
     "output_type": "stream",
     "text": [
      "100%|██████████| 125/125 [00:01<00:00, 113.94it/s]\n"
     ]
    }
   ],
   "source": [
    "## Draw the original video \n",
    "\n",
    "\n",
    "video_writer = cv2.VideoWriter(\"visualize_line_origin_line.mp4\", cv2.VideoWriter_fourcc(*'mp4v'), fps, (960, 540))\n",
    "for f in tqdm.tqdm(images[:int(fps * duration)]):\n",
    "    img = skimage.io.imread(f)\n",
    "    img = cv2.cvtColor(img, cv2.COLOR_RGB2BGR)\n",
    "    cv2.line(img, (0, 400), (959, 400), (255, 0,0 ), thickness = 2)\n",
    "    video_writer.write(img)\n",
    "video_writer.release()"
   ]
  },
  {
   "cell_type": "code",
   "execution_count": 25,
   "metadata": {},
   "outputs": [
    {
     "name": "stderr",
     "output_type": "stream",
     "text": [
      "100%|██████████| 125/125 [00:01<00:00, 93.62it/s]\n"
     ]
    }
   ],
   "source": [
    "## Draw the scanline video\n",
    "video_writer = cv2.VideoWriter(\"visualize_line_only.mp4\", cv2.VideoWriter_fourcc(*'mp4v'), fps, (960, 540))\n",
    "for f in tqdm.tqdm(images[:int(fps * duration)]):\n",
    "    # img = skimage.io.imread(f)\n",
    "    img = np.zeros((540, 960, 3))\n",
    "    img[line_idx: line_idx + thick] = skimage.io.imread(f)[line_idx: line_idx+thick]\n",
    "    img = np.uint8(img)\n",
    "    img = cv2.cvtColor(img, cv2.COLOR_RGB2BGR)\n",
    "    video_writer.write(img)\n",
    "video_writer.release()"
   ]
  }
 ],
 "metadata": {
  "kernelspec": {
   "display_name": "cs302_cv",
   "language": "python",
   "name": "python3"
  },
  "language_info": {
   "codemirror_mode": {
    "name": "ipython",
    "version": 3
   },
   "file_extension": ".py",
   "mimetype": "text/x-python",
   "name": "python",
   "nbconvert_exporter": "python",
   "pygments_lexer": "ipython3",
   "version": "3.9.6"
  }
 },
 "nbformat": 4,
 "nbformat_minor": 2
}
