{
 "cells": [
  {
   "cell_type": "code",
   "execution_count": null,
   "metadata": {},
   "outputs": [],
   "source": [
    "## This is used in the introduction to visualize the effect of the single line"
   ]
  },
  {
   "cell_type": "code",
   "execution_count": null,
   "metadata": {},
   "outputs": [],
   "source": [
    "# Please change the data_dir to your own\n",
    "data_dir = r\"D:\\Main\\DKU\\Senior\\CS302_CV\\projects\\data\""
   ]
  }
 ],
 "metadata": {
  "kernelspec": {
   "display_name": "cs302_cv",
   "language": "python",
   "name": "python3"
  },
  "language_info": {
   "name": "python",
   "version": "3.9.6"
  }
 },
 "nbformat": 4,
 "nbformat_minor": 2
}
